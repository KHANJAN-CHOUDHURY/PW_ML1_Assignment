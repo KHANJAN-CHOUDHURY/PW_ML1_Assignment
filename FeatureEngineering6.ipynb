{
 "cells": [
  {
   "cell_type": "markdown",
   "id": "db9f80fc-09c5-4e08-a1b6-1d93f216c894",
   "metadata": {},
   "source": [
    "## Q1. Pearson correlation coefficient is a measure of the linear relationship between two variables. Suppose you have collected data on the amount of time students spend studying for an exam and their final exam scores. Calculate the Pearson correlation coefficient between these two variables and interpret the result."
   ]
  },
  {
   "cell_type": "markdown",
   "id": "a476c14e-35a7-422e-aa07-43a167a9147f",
   "metadata": {},
   "source": [
    "## Ans:"
   ]
  },
  {
   "cell_type": "markdown",
   "id": "84dde414-f1d6-45d0-a226-c7315d1d2fd9",
   "metadata": {},
   "source": [
    "To calculate the Pearson correlation coefficient between two variables, you need the following formula:\n",
    "\n",
    "Pearson Correlation Coefficient (r)=\n",
    "$\\frac{\\sum_{i=1}^{n}((X_{i}-\\bar{X})(Y_{i}-\\bar{Y}))}{\\sqrt{\\sum_{i=1}^{n}(X_{i}-\\bar{X})^2\\sum_{i=1}^{n}(Y_{i}-\\bar{Y})^2}}$"
   ]
  },
  {
   "cell_type": "markdown",
   "id": "069ef347-8a66-4b43-8f08-e00a105e4ab7",
   "metadata": {},
   "source": [
    "Where:\n",
    "\n",
    "    Xi represents individual data points for the first variable (time spent studying).\n",
    "    Yi represents individual data points for the second variable (final exam scores).\n",
    "    Xˉ is the mean (average) of the first variable (time spent studying).\n",
    "    Yˉ is the mean (average) of the second variable (final exam scores)."
   ]
  },
  {
   "cell_type": "markdown",
   "id": "9213d66c-aba9-42be-92d0-bd1060ef0fc9",
   "metadata": {},
   "source": [
    "To interpret the result:\n",
    "\n",
    "    If the Pearson correlation coefficient (rr) is close to +1, it indicates a strong positive linear relationship between the two variables. This means that as the amount of time students spend studying increases, their final exam scores tend to increase as well.\n",
    "\n",
    "    If rr is close to -1, it indicates a strong negative linear relationship. In this case, as the time spent studying increases, final exam scores tend to decrease.\n",
    "\n",
    "    If rr is close to 0, it suggests a weak or no linear relationship between the two variables. In other words, there is no clear linear pattern between the time spent studying and final exam scores.\n",
    "\n",
    "Additionally, the sign of rr (positive or negative) indicates the direction of the relationship, and the magnitude of rr indicates the strength of the relationship. The closer rr is to 1 or -1, the stronger the relationship, while values closer to 0 suggest a weaker or no linear relationship.\n",
    "\n",
    "Interpreting the result will depend on the actual value of rr obtained from your data analysis. It's important to note that the Pearson correlation coefficient only measures linear relationships, so it may not capture more complex non-linear associations between the variables if they exist."
   ]
  },
  {
   "cell_type": "markdown",
   "id": "c438d92e-eb1f-4336-b810-3761e5e6ebd0",
   "metadata": {},
   "source": [
    "## Q2. Spearman's rank correlation is a measure of the monotonic relationship between two variables. Suppose you have collected data on the amount of sleep individuals get each night and their overall job satisfaction level on a scale of 1 to 10. Calculate the Spearman's rank correlation between these two variables and interpret the result."
   ]
  },
  {
   "cell_type": "markdown",
   "id": "e8653d2c-ce70-42ce-952c-9aa4f2d85570",
   "metadata": {},
   "source": [
    "## Ans:"
   ]
  },
  {
   "cell_type": "markdown",
   "id": "d2610c2d-46ed-484b-9d27-e8a64c8f8ceb",
   "metadata": {},
   "source": [
    "Spearman's rank correlation coefficient (ρ), also known as Spearman's rho, is used to measure the strength and direction of the monotonic relationship between two variables. Monotonic means that as one variable increases, the other either consistently increases or decreases but not necessarily at a constant rate. This correlation method is appropriate when your data may not exhibit a linear relationship.\n",
    "\n",
    "To calculate Spearman's rank correlation, follow these steps:\n",
    "\n",
    "    Rank the data for both variables separately, from lowest to highest, giving each data point a rank. In case of tied values, assign the average rank to those tied values.\n",
    "\n",
    "    Calculate the difference between the ranks of each pair of data points for both variables. Square these differences.\n",
    "\n",
    "    Sum up the squared differences for each pair.\n",
    "\n",
    "    Use the following formula to calculate Spearman's rank correlation coefficient:"
   ]
  },
  {
   "cell_type": "markdown",
   "id": "31f9e316-3c83-40cf-a95d-9e72f474070b",
   "metadata": {},
   "source": [
    "$ρ=1−\\frac{6\\sum d^{2}}{n(n^2−1)}$\n",
    "\n",
    "Where:\n",
    "\n",
    "1. $\\sum d^{2}$ is the sum of the squared differences between the ranks of the two variables.\n",
    "2. n is the number of data points."
   ]
  },
  {
   "cell_type": "markdown",
   "id": "4856f862-7dc5-4d16-9eb0-a3646277986a",
   "metadata": {},
   "source": [
    "Interpreting the result:\n",
    "\n",
    "    If ρ is close to +1, it suggests a strong monotonic positive relationship between the two variables. This means that as the amount of sleep individuals get each night increases, their job satisfaction tends to increase.\n",
    "\n",
    "    If ρ is close to -1, it indicates a strong monotonic negative relationship. In this case, as the amount of sleep decreases, job satisfaction tends to decrease.\n",
    "\n",
    "    If ρ is close to 0, it suggests a weak or no monotonic relationship between the two variables. In other words, there is no clear monotonic pattern between the amount of sleep and job satisfaction.\n",
    "\n",
    "The sign of ρ (positive or negative) indicates the direction of the monotonic relationship, and the magnitude of ρ indicates the strength of the relationship. The closer ρ is to +1 or -1, the stronger the relationship, while values closer to 0 suggest a weaker or no monotonic relationship.\n",
    "\n",
    "Interpreting the result will depend on the actual value of ρ obtained from your data analysis. Unlike Pearson correlation, Spearman's rank correlation can capture both increasing and decreasing monotonic relationships and is less sensitive to outliers and non-linearity."
   ]
  },
  {
   "cell_type": "markdown",
   "id": "9040afd1-1670-4917-99d6-25c39da41000",
   "metadata": {},
   "source": [
    "## Q3. Suppose you are conducting a study to examine the relationship between the number of hours of exercise per week and body mass index (BMI) in a sample of adults. You collected data on both variables for 50 participants. Calculate the Pearson correlation coefficient and the Spearman's rank correlation between these two variables and compare the results."
   ]
  },
  {
   "cell_type": "markdown",
   "id": "74cb27cd-def0-459e-aa66-4cd3b7c08c12",
   "metadata": {},
   "source": [
    "## Ans:"
   ]
  },
  {
   "cell_type": "markdown",
   "id": "61e4094e-499b-454e-a9f4-fa758725ae18",
   "metadata": {},
   "source": [
    "To examine the relationship between the number of hours of exercise per week and body mass index (BMI) in a sample of adults, you can calculate both the Pearson correlation coefficient and the Spearman's rank correlation coefficient and then compare the results.\n",
    "\n",
    "Let's assume you have collected the following data for 50 participants:\n",
    "\n",
    "    Number of hours of exercise per week (X)\n",
    "    Body mass index (BMI) (Y)\n",
    "\n",
    "Here are the steps to calculate both correlations:\n",
    "\n",
    "Pearson Correlation Coefficient (r):\n",
    "1. Calculate the mean (average) of X (hours of exercise) and Y (BMI).\n",
    "2. Calculate the standard deviation of X and Y.\n",
    "3. Calculate the covariance between X and Y.\n",
    "4. Use the following formula to calculate the Pearson correlation coefficient (r):"
   ]
  },
  {
   "cell_type": "markdown",
   "id": "1a731f33-3165-435a-ae2d-16683ce97e6a",
   "metadata": {},
   "source": [
    "r=$\\frac{\\sum_{i=1}^{n}((X_{i}-\\bar{X})(Y_{i}-\\bar{Y}))}{\\sqrt{\\sum_{i=1}^{n}(X_{i}-\\bar{X})^2\\sum_{i=1}^{n}(Y_{i}-\\bar{Y})^2}}$"
   ]
  },
  {
   "cell_type": "markdown",
   "id": "f854b6ee-6c00-4c49-ae9b-e39cf6008757",
   "metadata": {},
   "source": [
    "Where Xi and Yi represent individual data points, and Xˉ and Yˉ represent the means."
   ]
  },
  {
   "cell_type": "markdown",
   "id": "0603b45f-c4af-448f-85db-ff06406fb556",
   "metadata": {},
   "source": [
    "Spearman's Rank Correlation (ρ):\n",
    "\n",
    "    Rank the data for both X (hours of exercise) and Y (BMI) separately.\n",
    "\n",
    "    Calculate the differences between the ranks for each pair of data points for both variables, and square these differences.\n",
    "\n",
    "    Sum up the squared differences.\n",
    "\n",
    "    Use the formula to calculate Spearman's rank correlation coefficient (ρ):"
   ]
  },
  {
   "cell_type": "markdown",
   "id": "a5675f7a-6e6b-48ef-a8d9-ab232b962012",
   "metadata": {},
   "source": [
    "$ρ=1−\\frac{6\\sum d^{2}}{n(n^2−1)}$\n",
    "\n",
    "Where:\n",
    "\n",
    "1. $\\sum d^{2}$ is the sum of the squared differences between the ranks of the two variables.\n",
    "2. n is the number of data points."
   ]
  },
  {
   "cell_type": "markdown",
   "id": "0de93e70-47e9-4c3e-8e8c-b8722f106bf0",
   "metadata": {},
   "source": [
    "After calculating both correlation coefficients, you can compare the results:\n",
    "\n",
    "    If the Pearson correlation coefficient (r) is close to +1 or -1, it suggests a strong linear relationship between the number of hours of exercise and BMI. Positive values indicate that as exercise hours increase, BMI tends to decrease (inverse relationship), while negative values indicate that as exercise hours increase, BMI tends to increase (direct relationship).\n",
    "\n",
    "    If Spearman's rank correlation (ρ) is close to +1 or -1, it suggests a strong monotonic relationship between the two variables, regardless of linearity. Again, positive values indicate an inverse relationship, while negative values indicate a direct relationship.\n",
    "\n",
    "    If both r and ρ are close to 0, it suggests a weak or no linear or monotonic relationship between exercise hours and BMI."
   ]
  },
  {
   "cell_type": "markdown",
   "id": "ec2b0ece-558d-4214-b16e-f8fff00c14fa",
   "metadata": {},
   "source": [
    "## Q4. A researcher is interested in examining the relationship between the number of hours individuals spend watching television per day and their level of physical activity. The researcher collected data on both variables from a sample of 50 participants. Calculate the Pearson correlation coefficient between these two variables."
   ]
  },
  {
   "cell_type": "markdown",
   "id": "d404d0cc-537c-4a48-9cc8-983d9143bf90",
   "metadata": {},
   "source": [
    "## Ans:"
   ]
  },
  {
   "cell_type": "markdown",
   "id": "df818c61-e077-4d07-a8b5-232d7830a4b2",
   "metadata": {},
   "source": [
    "To calculate the Pearson correlation coefficient between the number of hours individuals spend watching television per day and their level of physical activity, you can use the following steps:\n",
    "\n",
    "Assuming you have collected the following data for 50 participants:\n",
    "\n",
    "    Number of hours of television watched per day (X)\n",
    "    Level of physical activity (Y)\n",
    "\n",
    "1. Calculate the mean (average) of X (hours of television watched per day) and Y (level of physical activity).\n",
    "2. Calculate the standard deviation of X and Y.\n",
    "3. Calculate the covariance between X and Y.\n",
    "4. Use the formula to calculate the Pearson correlation coefficient (r):"
   ]
  },
  {
   "cell_type": "markdown",
   "id": "f6d736aa-4dd7-401d-bc55-5a38b23736e4",
   "metadata": {},
   "source": [
    "    Plug in the values you've calculated into the formula to find the Pearson correlation coefficient (r).\n",
    "\n",
    "The resulting value of r will provide information about the strength and direction of the linear relationship between the number of hours spent watching television per day and the level of physical activity.\n",
    "\n",
    "    If r is close to +1, it indicates a strong positive linear relationship, meaning that as the number of hours of television watched per day increases, the level of physical activity tends to increase.\n",
    "\n",
    "    If r is close to -1, it suggests a strong negative linear relationship, meaning that as the number of hours of television watched per day increases, the level of physical activity tends to decrease.\n",
    "\n",
    "    If r is close to 0, it suggests a weak or no linear relationship between the two variables. In other words, there is no clear linear pattern between the number of hours of television watched per day and the level of physical activity."
   ]
  },
  {
   "cell_type": "markdown",
   "id": "6ac8db85-bf19-41e6-970a-2e038f4ed7ef",
   "metadata": {},
   "source": [
    "## Q5. A survey was conducted to examine the relationship between age and preference for a particular brand of soft drink. The survey results are shown below: {'Age(Years)':[25,42,37,19,31,28],'Soft drink Preference':['Coke','Pepsi','Mountain Dew','Coke','Pepsi','Coke']}.(Incomplete question)"
   ]
  },
  {
   "cell_type": "markdown",
   "id": "489d5e38-0006-4822-b56a-18855d6483d4",
   "metadata": {},
   "source": [
    "## Ans:"
   ]
  },
  {
   "cell_type": "markdown",
   "id": "4558d3fb-ffc1-49df-8540-8302d82e580d",
   "metadata": {},
   "source": [
    "To find the correlation between age (in years) and preference for a particular brand of soft drink, you can use point-biserial correlation (since one variable is continuous, i.e., age, and the other is categorical, i.e., soft drink preference). In this case, we want to determine if there is any correlation between age and the preference for a specific brand of soft drink.\n",
    "\n",
    "Here's how you can calculate the point-biserial correlation coefficient:\n",
    "\n",
    "    Assign numerical values to the categorical variable \"Soft drink Preference.\" For example, you can code 'Coke' as 1, 'Pepsi' as 2, and 'Mountain Dew' as 3.\n",
    "\n",
    "    Calculate the mean (average) of the continuous variable \"Age.\"\n",
    "\n",
    "    Calculate the point-biserial correlation coefficient (rpbrpb​) using the following formula:"
   ]
  },
  {
   "cell_type": "markdown",
   "id": "883dea9c-ee37-4a0a-832a-1eb94d30c183",
   "metadata": {},
   "source": [
    "## Q6. A company is interested in examining the relationship between the number of sales calls made per day and the number of sales made per week. The company collected data on both variables from a sample of 30 sales representatives. Calculate the Pearson correlation coefficient between these two variables."
   ]
  },
  {
   "cell_type": "markdown",
   "id": "c7a295c4-2afd-41e0-a149-13bdd315af49",
   "metadata": {},
   "source": [
    "## Ans:"
   ]
  },
  {
   "cell_type": "markdown",
   "id": "dae1f091-19a5-4d0f-be03-504c5db3d154",
   "metadata": {},
   "source": [
    "To calculate the Pearson correlation coefficient between the number of sales calls made per day and the number of sales made per week for the 30 sales representatives, you can use the following steps:\n",
    "\n",
    "Assuming you have collected the following data for 30 sales representatives:\n",
    "\n",
    "    Number of sales calls made per day (X)\n",
    "    Number of sales made per week (Y)\n",
    "\n",
    "1. Calculate the mean (average) of X (number of sales calls made per day) and Y (number of sales made per week).\n",
    "2. Calculate the standard deviation of X and Y.\n",
    "3. Calculate the covariance between X and Y.\n",
    "4. Use the following formula to calculate the Pearson correlation coefficient (r):\n",
    "5. Plug in the values you've calculated into the formula to find the Pearson correlation coefficient (r).\n",
    "\n",
    "The resulting value of r will provide information about the strength and direction of the linear relationship between the number of sales calls made per day and the number of sales made per week.\n",
    "\n",
    "    If r is close to +1, it indicates a strong positive linear relationship, meaning that as the number of sales calls made per day increases, the number of sales made per week tends to increase.\n",
    "\n",
    "    If r is close to -1, it suggests a strong negative linear relationship, meaning that as the number of sales calls made per day increases, the number of sales made per week tends to decrease.\n",
    "\n",
    "    If r is close to 0, it suggests a weak or no linear relationship between the two variables. In other words, there is no clear linear pattern between the number of sales calls made per day and the number of sales made per week.\n",
    "\n",
    "Interpreting the result will depend on the actual value of r obtained from your data analysis.\n"
   ]
  }
 ],
 "metadata": {
  "kernelspec": {
   "display_name": "",
   "name": ""
  },
  "language_info": {
   "name": ""
  }
 },
 "nbformat": 4,
 "nbformat_minor": 5
}
